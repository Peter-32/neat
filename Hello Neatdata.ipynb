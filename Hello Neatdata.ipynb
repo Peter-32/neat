{
 "cells": [
  {
   "cell_type": "code",
   "execution_count": null,
   "metadata": {
    "collapsed": true
   },
   "outputs": [],
   "source": [
    "# Required: pip install neatdata\n",
    "\n",
    "from neatdata.neatdata import *\n",
    "\n",
    "df = pd.read_csv(\"train.csv\") # Edit: Your dataset\n",
    "\n",
    "from sklearn.model_selection import train_test_split\n",
    "className = 'class' # Edit: Replace class with the Y column name\n",
    "trainX, testX, trainY, testY = train_test_split(df.drop([className], axis=1),\n",
    "                                                    df[className], train_size=0.75, test_size=0.25)\n",
    "\n",
    "\n",
    "indexColumns = [] # Edit: Optionally add column names\n",
    "# Automatic data cleaning will ignore the following columns:\n",
    "iWillManuallyCleanColumns = [] # Edit: Optionally add column names.  \n",
    "\n",
    "neatdata =  NeatData()\n",
    "cleanTrainX, cleanTrainY = neatdata.cleanTrainingDataset(trainX, trainY, indexColumns, iWillManuallyCleanColumns)\n",
    "cleanTestX = neatdata.cleanTestDataset(testX)\n",
    "cleanTestY = neatdata.convertYToNumbersForModeling(testY)"
   ]
  }
 ],
 "metadata": {
  "kernelspec": {
   "display_name": "Python 3",
   "language": "python",
   "name": "python3"
  },
  "language_info": {
   "codemirror_mode": {
    "name": "ipython",
    "version": 3
   },
   "file_extension": ".py",
   "mimetype": "text/x-python",
   "name": "python",
   "nbconvert_exporter": "python",
   "pygments_lexer": "ipython3",
   "version": "3.6.1"
  }
 },
 "nbformat": 4,
 "nbformat_minor": 2
}
